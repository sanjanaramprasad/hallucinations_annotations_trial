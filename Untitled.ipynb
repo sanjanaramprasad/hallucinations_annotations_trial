{
 "cells": [
  {
   "cell_type": "code",
   "execution_count": null,
   "id": "81652207-d50b-4fc1-a984-2478faadb49b",
   "metadata": {},
   "outputs": [],
   "source": [
    "\n"
   ]
  },
  {
   "cell_type": "code",
   "execution_count": 1,
   "id": "7b65d632-4f0d-4a66-b210-b9f5c451e450",
   "metadata": {},
   "outputs": [
    {
     "data": {
      "text/plain": [
       "'The author mistakenly believed their ACT test was on a certain day and ended up wandering around an empty high school for about half an hour, trying to gain access. They eventually checked their test ticket, realizing the ACT was scheduled for the previous day, which explained the empty parking lot and locked school.'"
      ]
     },
     "execution_count": 1,
     "metadata": {},
     "output_type": "execute_result"
    }
   ],
   "source": [
    "summ = '''The author mistakenly believed their ACT test was on a certain day and ended up wandering around an empty high school for about half an hour, trying to gain access. They eventually checked their test ticket, realizing the ACT was scheduled for the previous day, which explained the empty parking lot and locked school.'''\n",
    "\n",
    "summ\n"
   ]
  },
  {
   "cell_type": "code",
   "execution_count": 3,
   "id": "37dc7773-0bc4-448a-86f6-3792873fecd0",
   "metadata": {},
   "outputs": [
    {
     "data": {
      "text/plain": [
       "'The author mistakenly believed their ACT test was on a certain day and ended up wandering around an empty high school for'"
      ]
     },
     "execution_count": 3,
     "metadata": {},
     "output_type": "execute_result"
    }
   ],
   "source": [
    "summ[:121]"
   ]
  },
  {
   "cell_type": "code",
   "execution_count": 4,
   "id": "c56396ec-c256-4299-97a1-1ee049cc4e48",
   "metadata": {},
   "outputs": [
    {
     "data": {
      "text/plain": [
       "'<span class=\"highlight-mistake\" data-additional-rating1=\"not_likely\" data-additional-rating2=\"somewhat_common\" data-additional-rating3=\"high_consequence\"> author mistakenly </span>'"
      ]
     },
     "execution_count": 4,
     "metadata": {},
     "output_type": "execute_result"
    }
   ],
   "source": [
    "highlighted_span = '''<span class=\"highlight-mistake\" data-additional-rating1=\"not_likely\" data-additional-rating2=\"somewhat_common\" data-additional-rating3=\"high_consequence\"> author mistakenly </span>'''\n",
    "highlighted_span"
   ]
  },
  {
   "cell_type": "code",
   "execution_count": 42,
   "id": "09b9b904-a55c-4ca3-8c31-490809834b3f",
   "metadata": {},
   "outputs": [
    {
     "data": {
      "text/plain": [
       "'The <span class=\"highlight-mistake\" data-additional-rating1=\"not_likely\" data-additional-rating2=\"somewhat_common\" data-additional-rating3=\"high_consequence\"> author mistakenly </span> believed their ACT test was on a certain day and ended up wandering around an empty high school for about half an hour, trying to gain access. They eventually checked their test ticket, realizing the ACT was scheduled for the previous day, which explained the empty parking lot and locked school.'"
      ]
     },
     "execution_count": 42,
     "metadata": {},
     "output_type": "execute_result"
    }
   ],
   "source": [
    "new_annot = '''The <span class=\"highlight-mistake\" data-additional-rating1=\"not_likely\" data-additional-rating2=\"somewhat_common\" data-additional-rating3=\"high_consequence\"> author mistakenly </span> believed their ACT test was on a certain day and ended up wandering around an empty high school for about half an hour, trying to gain access. They eventually checked their test ticket, realizing the ACT was scheduled for the previous day, which explained the empty parking lot and locked school.'''\n",
    "new_annot\n",
    "\n"
   ]
  },
  {
   "cell_type": "code",
   "execution_count": 43,
   "id": "c9a70adb-9f6e-4853-b41c-a199de417262",
   "metadata": {},
   "outputs": [
    {
     "data": {
      "text/plain": [
       "318"
      ]
     },
     "execution_count": 43,
     "metadata": {},
     "output_type": "execute_result"
    }
   ],
   "source": [
    "len(annot)"
   ]
  },
  {
   "cell_type": "code",
   "execution_count": 52,
   "id": "aa4ced31-e076-4b58-bbd6-ee67054e6a6f",
   "metadata": {},
   "outputs": [
    {
     "data": {
      "text/plain": [
       "180"
      ]
     },
     "execution_count": 52,
     "metadata": {},
     "output_type": "execute_result"
    }
   ],
   "source": [
    "len(highlighted_span)"
   ]
  },
  {
   "cell_type": "code",
   "execution_count": 45,
   "id": "5a84fcd1-b246-4847-91cc-f626cbdd3a83",
   "metadata": {},
   "outputs": [
    {
     "data": {
      "text/plain": [
       "481"
      ]
     },
     "execution_count": 45,
     "metadata": {},
     "output_type": "execute_result"
    }
   ],
   "source": [
    "len(new_annot)"
   ]
  },
  {
   "cell_type": "code",
   "execution_count": 46,
   "id": "eed91046-2e22-4e45-a960-621b4492356c",
   "metadata": {},
   "outputs": [
    {
     "data": {
      "text/plain": [
       "{'nonfactual_span': 'author mistakenly',\n",
       " 'error_type': 'highlight-mistake',\n",
       " 'start_position': 4,\n",
       " 'end_position': 21,\n",
       " 'mistake_severity': None,\n",
       " 'inference_likelihood': 'not_likely',\n",
       " 'inference_knowledge': 'somewhat_common',\n",
       " 'inference_severity': 'high_consequence'}"
      ]
     },
     "execution_count": 46,
     "metadata": {},
     "output_type": "execute_result"
    }
   ],
   "source": [
    "annotation = {'nonfactual_span': 'author mistakenly', 'error_type': 'highlight-mistake', 'start_position': 4, 'end_position': 21, 'mistake_severity': None, 'inference_likelihood': 'not_likely', 'inference_knowledge': 'somewhat_common', 'inference_severity': 'high_consequence'} \n",
    "annotation"
   ]
  },
  {
   "cell_type": "code",
   "execution_count": 47,
   "id": "80740052-3232-459b-b2e9-3918a057d13c",
   "metadata": {},
   "outputs": [
    {
     "data": {
      "text/plain": [
       "'The '"
      ]
     },
     "execution_count": 47,
     "metadata": {},
     "output_type": "execute_result"
    }
   ],
   "source": [
    "annot[:4]"
   ]
  },
  {
   "cell_type": "code",
   "execution_count": 48,
   "id": "dd297717-bf4b-4fcf-a153-7677d4b6a18a",
   "metadata": {},
   "outputs": [
    {
     "data": {
      "text/plain": [
       "4"
      ]
     },
     "execution_count": 48,
     "metadata": {},
     "output_type": "execute_result"
    }
   ],
   "source": [
    "offset = 0\n",
    "\n",
    "startIndex = annotation['start_position'] + offset\n",
    "startIndex"
   ]
  },
  {
   "cell_type": "code",
   "execution_count": 49,
   "id": "c69daafc-1e33-44ed-9076-252f31d6a4a0",
   "metadata": {},
   "outputs": [
    {
     "data": {
      "text/plain": [
       "21"
      ]
     },
     "execution_count": 49,
     "metadata": {},
     "output_type": "execute_result"
    }
   ],
   "source": [
    "endIndex = startIndex + len(annotation['nonfactual_span'])\n",
    "endIndex"
   ]
  },
  {
   "cell_type": "code",
   "execution_count": 50,
   "id": "fca9fac4-08d1-44f5-b9ce-38c64aac9df6",
   "metadata": {},
   "outputs": [],
   "source": [
    "nonfactualSpan = annotation['nonfactual_span']"
   ]
  },
  {
   "cell_type": "code",
   "execution_count": 51,
   "id": "ed5ba613-4435-4f98-a617-3508492c5d92",
   "metadata": {},
   "outputs": [
    {
     "data": {
      "text/plain": [
       "'The <span class=\"highlight-mistake\" data-additional-rating1=\"not_likely\" data-additional-rating2=\"somewhat_common\" data-additional-rating3=\"high_consequence\"> author mistakenly </span> believed their ACT test was on a certain day and ended up wandering around an empty high school for about half an hour, trying to gain access. They eventually checked their test ticket, realizing the ACT was scheduled for the previous day, which explained the empty parking lot and locked school.'"
      ]
     },
     "execution_count": 51,
     "metadata": {},
     "output_type": "execute_result"
    }
   ],
   "source": [
    "summ1 = new_annot\n",
    "summ1"
   ]
  },
  {
   "cell_type": "code",
   "execution_count": 53,
   "id": "32a239da-c6fc-4d29-ab4c-b53b378ecb87",
   "metadata": {},
   "outputs": [
    {
     "data": {
      "text/plain": [
       "163"
      ]
     },
     "execution_count": 53,
     "metadata": {},
     "output_type": "execute_result"
    }
   ],
   "source": [
    "added_length = len(highlighted_span) - len(nonfactualSpan)\n",
    "added_length"
   ]
  },
  {
   "cell_type": "code",
   "execution_count": 54,
   "id": "aa0d63be-f261-470c-8281-eaf012af801d",
   "metadata": {},
   "outputs": [],
   "source": [
    "offset += added_length"
   ]
  },
  {
   "cell_type": "code",
   "execution_count": 55,
   "id": "36dc0621-8433-4701-ba30-bc0bc4a4d4da",
   "metadata": {},
   "outputs": [
    {
     "data": {
      "text/plain": [
       "'The <span class=\"highlight-mistake\" data-additional-rating1=\"not_likely\" data-additional-rating2=\"somewhat_common\" data-additional-rating3=\"high_consequence\"> auth'"
      ]
     },
     "execution_count": 55,
     "metadata": {},
     "output_type": "execute_result"
    }
   ],
   "source": [
    "summ1[:added_length]"
   ]
  },
  {
   "cell_type": "code",
   "execution_count": 56,
   "id": "d50ce996-52aa-4f6b-83be-704ebe64cc27",
   "metadata": {},
   "outputs": [],
   "source": [
    "annotation = {'nonfactual_span': 'checked their test ticket', 'error_type': 'highlight-somewhat_mistake', 'start_position': 160, 'end_position': 185, 'mistake_severity': None, 'inference_likelihood': 'not_likely', 'inference_knowledge': 'somewhat_common', 'inference_severity': 'high_consequence'}\n",
    "\n"
   ]
  },
  {
   "cell_type": "code",
   "execution_count": 57,
   "id": "40b70796-79df-44bf-b608-b401abe0a496",
   "metadata": {},
   "outputs": [
    {
     "data": {
      "text/plain": [
       "323"
      ]
     },
     "execution_count": 57,
     "metadata": {},
     "output_type": "execute_result"
    }
   ],
   "source": [
    "startIndex = annotation['start_position'] + offset\n",
    "startIndex"
   ]
  },
  {
   "cell_type": "code",
   "execution_count": 58,
   "id": "a9178a9b-8ce9-445c-a327-728c999a7d80",
   "metadata": {},
   "outputs": [
    {
     "data": {
      "text/plain": [
       "'The <span class=\"highlight-mistake\" data-additional-rating1=\"not_likely\" data-additional-rating2=\"somewhat_common\" data-additional-rating3=\"high_consequence\"> author mistakenly </span> believed their ACT test was on a certain day and ended up wandering around an empty high school for about half an hour, trying to gain acc'"
      ]
     },
     "execution_count": 58,
     "metadata": {},
     "output_type": "execute_result"
    }
   ],
   "source": [
    "summ1[:startIndex]"
   ]
  },
  {
   "cell_type": "code",
   "execution_count": 61,
   "id": "cafc77b9-9182-4a71-bf91-c154c53e3610",
   "metadata": {},
   "outputs": [
    {
     "data": {
      "text/plain": [
       "'The <span class=\"highlight-mistake\" data-additional-rating1=\"not_likely\" data-additional-rating2=\"somewhat_common\" data-additional-rating3=\"high_consequence\"> a'"
      ]
     },
     "execution_count": 61,
     "metadata": {},
     "output_type": "execute_result"
    }
   ],
   "source": [
    "summ1[:160]"
   ]
  },
  {
   "cell_type": "code",
   "execution_count": null,
   "id": "49fb3e91-101b-4483-a859-8ccbd819d028",
   "metadata": {},
   "outputs": [],
   "source": []
  }
 ],
 "metadata": {
  "kernelspec": {
   "display_name": "Python 3 (ipykernel)",
   "language": "python",
   "name": "python3"
  },
  "language_info": {
   "codemirror_mode": {
    "name": "ipython",
    "version": 3
   },
   "file_extension": ".py",
   "mimetype": "text/x-python",
   "name": "python",
   "nbconvert_exporter": "python",
   "pygments_lexer": "ipython3",
   "version": "3.12.4"
  }
 },
 "nbformat": 4,
 "nbformat_minor": 5
}
