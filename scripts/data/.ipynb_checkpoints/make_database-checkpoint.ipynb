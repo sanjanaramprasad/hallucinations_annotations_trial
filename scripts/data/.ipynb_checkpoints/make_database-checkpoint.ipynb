{
 "cells": [
  {
   "cell_type": "code",
   "execution_count": 1,
   "metadata": {},
   "outputs": [],
   "source": [
    "import pandas as pd\n"
   ]
  },
  {
   "cell_type": "code",
   "execution_count": 3,
   "metadata": {},
   "outputs": [],
   "source": [
    "# read_dir = '/work/frink/ramprasad.sa/factuality_metrics/datasets'\n",
    "# filename = 'aggrefact_llm.csv'\n",
    "# df = pd.read_csv(f'{read_dir}/{filename}')\n",
    "# df.head()"
   ]
  },
  {
   "cell_type": "code",
   "execution_count": 7,
   "metadata": {},
   "outputs": [
    {
     "data": {
      "text/html": [
       "<div>\n",
       "<style scoped>\n",
       "    .dataframe tbody tr th:only-of-type {\n",
       "        vertical-align: middle;\n",
       "    }\n",
       "\n",
       "    .dataframe tbody tr th {\n",
       "        vertical-align: top;\n",
       "    }\n",
       "\n",
       "    .dataframe thead th {\n",
       "        text-align: right;\n",
       "    }\n",
       "</style>\n",
       "<table border=\"1\" class=\"dataframe\">\n",
       "  <thead>\n",
       "    <tr style=\"text-align: right;\">\n",
       "      <th></th>\n",
       "      <th>Unnamed: 0.1</th>\n",
       "      <th>Unnamed: 0</th>\n",
       "      <th>id</th>\n",
       "      <th>benchmark_dataset_name</th>\n",
       "      <th>origin</th>\n",
       "      <th>source_format</th>\n",
       "      <th>summary_origin</th>\n",
       "      <th>error_spans</th>\n",
       "      <th>error_category</th>\n",
       "      <th>error_origin</th>\n",
       "      <th>faithful</th>\n",
       "      <th>model</th>\n",
       "      <th>source</th>\n",
       "      <th>summary</th>\n",
       "      <th>corrected_summary</th>\n",
       "    </tr>\n",
       "  </thead>\n",
       "  <tbody>\n",
       "    <tr>\n",
       "      <th>0</th>\n",
       "      <td>0</td>\n",
       "      <td>0</td>\n",
       "      <td>Rachel Usher#REDDIT-83:flanul2-ul2</td>\n",
       "      <td>genaudit</td>\n",
       "      <td>REDDIT</td>\n",
       "      <td>document</td>\n",
       "      <td>model</td>\n",
       "      <td>nobody</td>\n",
       "      <td>NaN</td>\n",
       "      <td>model</td>\n",
       "      <td>0</td>\n",
       "      <td>flanul2</td>\n",
       "      <td>both me and my girlfriend participate in winte...</td>\n",
       "      <td>I waited outside the locker rooms for my girlf...</td>\n",
       "      <td>I waited outside the locker rooms for my girlf...</td>\n",
       "    </tr>\n",
       "    <tr>\n",
       "      <th>1</th>\n",
       "      <td>1</td>\n",
       "      <td>1</td>\n",
       "      <td>Rachel Usher#REDDIT-83:llama70b-ul2</td>\n",
       "      <td>genaudit</td>\n",
       "      <td>REDDIT</td>\n",
       "      <td>document</td>\n",
       "      <td>model</td>\n",
       "      <td>NaN</td>\n",
       "      <td>NaN</td>\n",
       "      <td>model</td>\n",
       "      <td>1</td>\n",
       "      <td>llama70b</td>\n",
       "      <td>both me and my girlfriend participate in winte...</td>\n",
       "      <td>A high school student was waiting for his girl...</td>\n",
       "      <td>A high school student was waiting for his girl...</td>\n",
       "    </tr>\n",
       "  </tbody>\n",
       "</table>\n",
       "</div>"
      ],
      "text/plain": [
       "   Unnamed: 0.1  Unnamed: 0                                   id  \\\n",
       "0             0           0   Rachel Usher#REDDIT-83:flanul2-ul2   \n",
       "1             1           1  Rachel Usher#REDDIT-83:llama70b-ul2   \n",
       "\n",
       "  benchmark_dataset_name  origin source_format summary_origin error_spans  \\\n",
       "0               genaudit  REDDIT      document          model      nobody   \n",
       "1               genaudit  REDDIT      document          model         NaN   \n",
       "\n",
       "   error_category error_origin  faithful     model  \\\n",
       "0             NaN        model         0   flanul2   \n",
       "1             NaN        model         1  llama70b   \n",
       "\n",
       "                                              source  \\\n",
       "0  both me and my girlfriend participate in winte...   \n",
       "1  both me and my girlfriend participate in winte...   \n",
       "\n",
       "                                             summary  \\\n",
       "0  I waited outside the locker rooms for my girlf...   \n",
       "1  A high school student was waiting for his girl...   \n",
       "\n",
       "                                   corrected_summary  \n",
       "0  I waited outside the locker rooms for my girlf...  \n",
       "1  A high school student was waiting for his girl...  "
      ]
     },
     "execution_count": 7,
     "metadata": {},
     "output_type": "execute_result"
    }
   ],
   "source": [
    "df_genaudit = pd.read_csv('/Users/srampras/hallucinations_annotations/scripts/data/genaudit_annotations.csv')\n",
    "df_genaudit.head()[:2]"
   ]
  },
  {
   "cell_type": "code",
   "execution_count": 1,
   "metadata": {},
   "outputs": [],
   "source": [
    "import psycopg2"
   ]
  },
  {
   "cell_type": "code",
   "execution_count": 2,
   "metadata": {},
   "outputs": [],
   "source": [
    "conn = psycopg2.connect(\n",
    "   database=\"dgks84evs3khk\", \n",
    "    user='u38ot3voqlb8of', \n",
    "    password='p9ee14081ae1d13ffb707b10ddc331c8191f057d2be74b53921911da9e426ca4c', \n",
    "    host='cd3vj4tb0qabuf.cluster-czrs8kj4isg7.us-east-1.rds.amazonaws.com', \n",
    "    port = '5432'\n",
    "    \n",
    ")"
   ]
  },
  {
   "cell_type": "code",
   "execution_count": 3,
   "metadata": {},
   "outputs": [
    {
     "name": "stdout",
     "output_type": "stream",
     "text": [
      "Table created successfully........\n"
     ]
    }
   ],
   "source": [
    "cursor = conn.cursor()\n",
    "\n",
    "sql_drop = '''DROP TABLE IF EXISTS model_summaries;'''\n",
    "\n",
    "sql = '''CREATE TABLE model_summaries (\n",
    "    uuid uuid DEFAULT gen_random_uuid() PRIMARY KEY, \n",
    "    docid TEXT NOT NULL ,\n",
    "    model TEXT NOT NULL, \n",
    "    summary TEXT NOT NULL, \n",
    "    origin TEXT\n",
    ");'''\n",
    "\n",
    "#Creating a database\n",
    "cursor.execute(sql_drop)\n",
    "cursor.execute(sql)\n",
    "print(\"Table created successfully........\")\n",
    "conn.commit()"
   ]
  },
  {
   "cell_type": "code",
   "execution_count": 3,
   "metadata": {},
   "outputs": [
    {
     "ename": "SyntaxError",
     "evalue": "syntax error at or near \")\"\nLINE 11: );\n         ^\n",
     "output_type": "error",
     "traceback": [
      "\u001b[0;31m---------------------------------------------------------------------------\u001b[0m",
      "\u001b[0;31mSyntaxError\u001b[0m                               Traceback (most recent call last)",
      "Cell \u001b[0;32mIn[3], line 17\u001b[0m\n\u001b[1;32m      4\u001b[0m create_table_label_str \u001b[38;5;241m=\u001b[39m \u001b[38;5;124m'''\u001b[39m\u001b[38;5;124mCREATE TABLE label (\u001b[39m\n\u001b[1;32m      5\u001b[0m \u001b[38;5;124m    uuid uuid DEFAULT gen_random_uuid() PRIMARY KEY, \u001b[39m\n\u001b[1;32m      6\u001b[0m \u001b[38;5;124m    user_id TEXT NOT NULL,\u001b[39m\n\u001b[0;32m   (...)\u001b[0m\n\u001b[1;32m     13\u001b[0m \u001b[38;5;124m    origin TEXT NOT NULL,\u001b[39m\n\u001b[1;32m     14\u001b[0m \u001b[38;5;124m);\u001b[39m\u001b[38;5;124m'''\u001b[39m\n\u001b[1;32m     16\u001b[0m cursor\u001b[38;5;241m.\u001b[39mexecute(sql_drop)\n\u001b[0;32m---> 17\u001b[0m \u001b[43mcursor\u001b[49m\u001b[38;5;241;43m.\u001b[39;49m\u001b[43mexecute\u001b[49m\u001b[43m(\u001b[49m\u001b[43mcreate_table_label_str\u001b[49m\u001b[43m)\u001b[49m\n\u001b[1;32m     18\u001b[0m \u001b[38;5;28mprint\u001b[39m(\u001b[38;5;124m\"\u001b[39m\u001b[38;5;124mTable created successfully........\u001b[39m\u001b[38;5;124m\"\u001b[39m)\n\u001b[1;32m     19\u001b[0m conn\u001b[38;5;241m.\u001b[39mcommit()\n",
      "\u001b[0;31mSyntaxError\u001b[0m: syntax error at or near \")\"\nLINE 11: );\n         ^\n"
     ]
    }
   ],
   "source": [
    "cursor = conn.cursor()\n",
    "sql_drop = '''DROP TABLE IF EXISTS label;'''\n",
    "\n",
    "create_table_label_str = '''CREATE TABLE label (\n",
    "    uuid uuid DEFAULT gen_random_uuid() PRIMARY KEY, \n",
    "    user_id TEXT NOT NULL,\n",
    "    docid TEXT NOT NULL,\n",
    "    model TEXT NOT NULL,\n",
    "    nonfactual_spans TEXT,\n",
    "    evidence TEXT ,\n",
    "    error_type TEXT,\n",
    "    summary TEXT NOT NULL,\n",
    "    origin TEXT NOT NULL\n",
    ");'''\n",
    "\n",
    "cursor.execute(sql_drop)\n",
    "cursor.execute(create_table_label_str)\n",
    "print(\"Table created successfully........\")\n",
    "conn.commit()"
   ]
  },
  {
   "cell_type": "code",
   "execution_count": null,
   "metadata": {},
   "outputs": [],
   "source": []
  }
 ],
 "metadata": {
  "kernelspec": {
   "display_name": "Python 3 (ipykernel)",
   "language": "python",
   "name": "python3"
  },
  "language_info": {
   "codemirror_mode": {
    "name": "ipython",
    "version": 3
   },
   "file_extension": ".py",
   "mimetype": "text/x-python",
   "name": "python",
   "nbconvert_exporter": "python",
   "pygments_lexer": "ipython3",
   "version": "3.9.19"
  }
 },
 "nbformat": 4,
 "nbformat_minor": 4
}
