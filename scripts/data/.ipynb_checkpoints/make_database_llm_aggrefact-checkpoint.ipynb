{
 "cells": [
  {
   "cell_type": "code",
   "execution_count": 1,
   "id": "bc19f51c-4bf0-462b-8cf5-3a634c69d16d",
   "metadata": {},
   "outputs": [],
   "source": [
    "import pandas as pd"
   ]
  },
  {
   "cell_type": "code",
   "execution_count": 13,
   "id": "3eee30c8-8988-4faf-b1fe-d5b1804e5a9f",
   "metadata": {},
   "outputs": [],
   "source": [
    "def make_data(data_file,\n",
    "             annotated_file,\n",
    "             add_files):\n",
    "    df_data = pd.read_csv(f'{data_file}')\n",
    "    df_annotated = pd.read_csv(f'{annotated_file}')\n",
    "    df_summaries = df_data[~df_data['id'].isin(df_annotated['docid'])]\n",
    "\n",
    "    added_dfs = [df_summaries]\n",
    "    for add_file in add_files:\n",
    "        df_add = pd.read_csv(f'{add_file}')\n",
    "        added_dfs += [df_add]\n",
    "    return pd.concat(added_dfs)"
   ]
  },
  {
   "cell_type": "code",
   "execution_count": 14,
   "id": "2b65bfd1-c8c5-4e29-81b3-fac9ccb7d6c8",
   "metadata": {},
   "outputs": [],
   "source": [
    "# df_genaudit = pd.read_csv('/Users/srampras/hallucinations_annotations/scripts/data/genaudit_annotations.csv')\n",
    "\n",
    "\n",
    "data_file = '/Users/ramprasad.sa/hallucinations_annotations_trial/data_new/llm_aggrefact_sample.csv'\n",
    "annotated_file = '/Users/ramprasad.sa/hallucinations_annotations_trial/annotated_data/first_batch_final4_annotator_dump_oct_28.csv'\n",
    "# add_files = ['llama3_8b_summaries.csv']\n",
    "add_files = []\n",
    "\n",
    "df_summaries = make_data(data_file = data_file,\n",
    "                        annotated_file = annotated_file,\n",
    "                        add_files = add_files)"
   ]
  },
  {
   "cell_type": "code",
   "execution_count": 15,
   "id": "59f85df6-87ba-48b8-8392-4900c585e80c",
   "metadata": {},
   "outputs": [
    {
     "data": {
      "text/plain": [
       "500"
      ]
     },
     "execution_count": 15,
     "metadata": {},
     "output_type": "execute_result"
    }
   ],
   "source": [
    "len(df_summaries)"
   ]
  },
  {
   "cell_type": "code",
   "execution_count": 16,
   "id": "e85792fb-1270-42bd-932c-323b2c457be5",
   "metadata": {},
   "outputs": [],
   "source": [
    "import psycopg2"
   ]
  },
  {
   "cell_type": "code",
   "execution_count": 17,
   "id": "0d39e54d-fd1d-4b47-9c6b-22ab74ee0a59",
   "metadata": {},
   "outputs": [],
   "source": [
    "conn = psycopg2.connect(\n",
    "   database=\"d65103c5a2kbgs\", \n",
    "    user='u16ifm924gr2m8', \n",
    "    password='pe4029f0ba1fbaafd034f4dbf17f703bf9a5d6c8420f07719f5db4054c9d4da40', \n",
    "    host='c1gvrf2q90nbcq.cluster-czrs8kj4isg7.us-east-1.rds.amazonaws.com', \n",
    "    port = '5432'\n",
    "    \n",
    ")\n",
    "cursor = conn.cursor()"
   ]
  },
  {
   "cell_type": "code",
   "execution_count": null,
   "id": "3f8454f2-489c-4e0d-9e8c-957f3d66b53d",
   "metadata": {},
   "outputs": [],
   "source": []
  }
 ],
 "metadata": {
  "kernelspec": {
   "display_name": "Python 3 (ipykernel)",
   "language": "python",
   "name": "python3"
  },
  "language_info": {
   "codemirror_mode": {
    "name": "ipython",
    "version": 3
   },
   "file_extension": ".py",
   "mimetype": "text/x-python",
   "name": "python",
   "nbconvert_exporter": "python",
   "pygments_lexer": "ipython3",
   "version": "3.12.7"
  }
 },
 "nbformat": 4,
 "nbformat_minor": 5
}
