{
 "cells": [
  {
   "cell_type": "code",
   "execution_count": 2,
   "id": "f237f1a0-e28d-4e0d-918e-c8297adb2f71",
   "metadata": {},
   "outputs": [
    {
     "name": "stdout",
     "output_type": "stream",
     "text": [
      "yscEkw\n"
     ]
    }
   ],
   "source": [
    "import secrets\n",
    "import json\n",
    "password_length = 4\n",
    "print(secrets.token_urlsafe(password_length))"
   ]
  },
  {
   "cell_type": "code",
   "execution_count": 14,
   "id": "36a14a7b-1ca6-418b-b4f2-41a5ccb2427c",
   "metadata": {},
   "outputs": [
    {
     "data": {
      "text/plain": [
       "'xrs0Eg'"
      ]
     },
     "execution_count": 14,
     "metadata": {},
     "output_type": "execute_result"
    }
   ],
   "source": [
    "current_count = 23\n",
    "with open('/Users/srampras/hallucinations_annotations_trial/user_ids.json', 'r') as fp:\n",
    "    user_ids = json.load(fp)\n",
    "\n",
    "user_ids[f'{current_count}']"
   ]
  },
  {
   "cell_type": "code",
   "execution_count": 6,
   "id": "caf5e078-723a-48a1-aa2a-207a2cf4c392",
   "metadata": {},
   "outputs": [
    {
     "data": {
      "text/plain": [
       "{'0': '7ZL5BQ',\n",
       " '1': 'ePRgSg',\n",
       " '2': '20ujww',\n",
       " '3': 'maGNPw',\n",
       " '4': '6nQeDQ',\n",
       " '5': 'yXZPGw',\n",
       " '6': 'h9x2Gg',\n",
       " '7': 'cNCRJA',\n",
       " '8': '7pqG_Q',\n",
       " '9': 'KCublA',\n",
       " '10': 'VClFmg',\n",
       " '11': '4YiOzA',\n",
       " '12': 'TJAODA',\n",
       " '13': 'TOiH7g',\n",
       " '14': 'IvWj2g',\n",
       " '15': 'Xo0QHA',\n",
       " '16': 'GK6Q8Q',\n",
       " '17': 'P1-1_w',\n",
       " '18': '39CFmA',\n",
       " '19': 'H__RqQ',\n",
       " '20': 'pShDyA',\n",
       " '21': 'y1EapA',\n",
       " '22': 'FMgrWQ',\n",
       " '23': 'xrs0Eg',\n",
       " '24': 'g7wLBw',\n",
       " '25': '4vQZBQ',\n",
       " '26': 'USzArg',\n",
       " '27': 'CNslBg',\n",
       " '28': 'QHwb2Q',\n",
       " '29': '27sE_w',\n",
       " '30': 'GW2y2Q',\n",
       " '31': '_iFtUQ',\n",
       " '32': 'YtYC5w',\n",
       " '33': 'EE8__w',\n",
       " '34': 'bV-2zg',\n",
       " '35': 'NU2jtQ',\n",
       " '36': 'k3nA_Q',\n",
       " '37': '_aYJNA',\n",
       " '38': 'XFsHRQ',\n",
       " '39': '5LDzxw',\n",
       " '40': 'mdjmdA',\n",
       " '41': 'j71IMQ',\n",
       " '42': 'YluaNA',\n",
       " '43': 'h6ZkfA',\n",
       " '44': 'NYjCZg',\n",
       " '45': 'H7uZNg',\n",
       " '46': '5dsr-Q',\n",
       " '47': 'k85LCA',\n",
       " '48': 'j-LBDw',\n",
       " '49': 'CQEVdw',\n",
       " '50': 'U9Aq1w',\n",
       " '51': '6iI7Yw',\n",
       " '52': 'LbWlbw',\n",
       " '53': 'LI3aPw',\n",
       " '54': 'btqwuw',\n",
       " '55': 'Mbv9gg',\n",
       " '56': 'E9uoXg',\n",
       " '57': '5KsBow',\n",
       " '58': 'r1M0Kw',\n",
       " '59': '0YdTzA',\n",
       " '60': 'FYr_3g',\n",
       " '61': 'AUo-4A',\n",
       " '62': 'IXT2aQ',\n",
       " '63': 'lPa8ZQ',\n",
       " '64': 'jGaZqQ',\n",
       " '65': '-JB_7g',\n",
       " '66': 'BTn1vw',\n",
       " '67': 'xCg4qQ',\n",
       " '68': '8j3Qzg',\n",
       " '69': 'Hj_Y4Q',\n",
       " '70': 'bFbPIw',\n",
       " '71': 'Vs2gQg',\n",
       " '72': 'umVg6A',\n",
       " '73': 'tDxtHA',\n",
       " '74': 'o49Z-g',\n",
       " '75': 'F9pFGw',\n",
       " '76': 'ldYBTw',\n",
       " '77': 'JVrWcg',\n",
       " '78': '3pTtng',\n",
       " '79': '978R9A',\n",
       " '80': 'K9lLuw',\n",
       " '81': 'Kagepg',\n",
       " '82': 'BCaYAg',\n",
       " '83': '8fqX2A',\n",
       " '84': 'AcOdxg',\n",
       " '85': '3O7voA',\n",
       " '86': 'fkE42g',\n",
       " '87': 'apjiBg',\n",
       " '88': 'AoIdFQ',\n",
       " '89': 'ERqKkg',\n",
       " '90': 'QmJRpA',\n",
       " '91': 'NXj_0Q',\n",
       " '92': '7wuq5w',\n",
       " '93': 'ADeFww',\n",
       " '94': 'Eijrew',\n",
       " '95': 'OnoxjA',\n",
       " '96': 'hPS9GA',\n",
       " '97': 'o0aQHQ',\n",
       " '98': 'VWNHVA',\n",
       " '99': 'XHX-nA'}"
      ]
     },
     "execution_count": 6,
     "metadata": {},
     "output_type": "execute_result"
    }
   ],
   "source": [
    "user_ids"
   ]
  },
  {
   "cell_type": "code",
   "execution_count": null,
   "id": "b95d7f50-a719-43a0-ab6b-c4e4815cdb88",
   "metadata": {},
   "outputs": [],
   "source": []
  }
 ],
 "metadata": {
  "kernelspec": {
   "display_name": "Python 3 (ipykernel)",
   "language": "python",
   "name": "python3"
  },
  "language_info": {
   "codemirror_mode": {
    "name": "ipython",
    "version": 3
   },
   "file_extension": ".py",
   "mimetype": "text/x-python",
   "name": "python",
   "nbconvert_exporter": "python",
   "pygments_lexer": "ipython3",
   "version": "3.12.4"
  }
 },
 "nbformat": 4,
 "nbformat_minor": 5
}
