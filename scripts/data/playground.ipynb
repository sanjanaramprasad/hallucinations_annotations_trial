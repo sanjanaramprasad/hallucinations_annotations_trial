{
 "cells": [
  {
   "cell_type": "code",
   "execution_count": 5,
   "id": "f237f1a0-e28d-4e0d-918e-c8297adb2f71",
   "metadata": {},
   "outputs": [
    {
     "name": "stdout",
     "output_type": "stream",
     "text": [
      "nPpy-Q\n"
     ]
    }
   ],
   "source": [
    "import secrets\n",
    "import json\n",
    "password_length = 4\n",
    "print(secrets.token_urlsafe(password_length))"
   ]
  },
  {
   "cell_type": "code",
   "execution_count": 13,
   "id": "705bf017-4fc1-47fc-b7e0-aae8a4c1670d",
   "metadata": {},
   "outputs": [],
   "source": [
    "users = {i : secrets.token_urlsafe(password_length) for i in range(30)}"
   ]
  },
  {
   "cell_type": "code",
   "execution_count": 14,
   "id": "089db466-a378-4643-a024-586249dc740a",
   "metadata": {},
   "outputs": [
    {
     "data": {
      "text/plain": [
       "{0: 'JtFyEw',\n",
       " 1: 'nahZWg',\n",
       " 2: 'UI7YfQ',\n",
       " 3: '40pE6g',\n",
       " 4: 'Gz1nGQ',\n",
       " 5: 'HD5T6w',\n",
       " 6: '4g08AA',\n",
       " 7: 'gB39NQ',\n",
       " 8: 'HRXJMw',\n",
       " 9: 'C0pHjg',\n",
       " 10: 'uxAtVw',\n",
       " 11: 'ISQl4A',\n",
       " 12: 'x2LOEA',\n",
       " 13: 'nhKByQ',\n",
       " 14: 'IngRYA',\n",
       " 15: 'Mi6kNQ',\n",
       " 16: 'QhX8-g',\n",
       " 17: 'Z1i-FQ',\n",
       " 18: 'z3fLpA',\n",
       " 19: 'Z-6VdQ',\n",
       " 20: 'vISp-w',\n",
       " 21: 'ubDL1g',\n",
       " 22: 'RmCM0w',\n",
       " 23: 'tJXO5A',\n",
       " 24: 'XTjk_Q',\n",
       " 25: 'dGftlQ',\n",
       " 26: 'Kv8YYg',\n",
       " 27: 'LdMUTw',\n",
       " 28: 'kaWS2w',\n",
       " 29: 'fsoyOQ'}"
      ]
     },
     "execution_count": 14,
     "metadata": {},
     "output_type": "execute_result"
    }
   ],
   "source": [
    "users\n"
   ]
  },
  {
   "cell_type": "code",
   "execution_count": 15,
   "id": "644dc87f-cff1-477a-976e-f23a1dbe1591",
   "metadata": {},
   "outputs": [],
   "source": [
    "with open('user_ids.json', 'w') as fp:\n",
    "    json.dump(users, fp)"
   ]
  },
  {
   "cell_type": "code",
   "execution_count": null,
   "id": "36a14a7b-1ca6-418b-b4f2-41a5ccb2427c",
   "metadata": {},
   "outputs": [],
   "source": []
  }
 ],
 "metadata": {
  "kernelspec": {
   "display_name": "Python 3 (ipykernel)",
   "language": "python",
   "name": "python3"
  },
  "language_info": {
   "codemirror_mode": {
    "name": "ipython",
    "version": 3
   },
   "file_extension": ".py",
   "mimetype": "text/x-python",
   "name": "python",
   "nbconvert_exporter": "python",
   "pygments_lexer": "ipython3",
   "version": "3.12.4"
  }
 },
 "nbformat": 4,
 "nbformat_minor": 5
}
