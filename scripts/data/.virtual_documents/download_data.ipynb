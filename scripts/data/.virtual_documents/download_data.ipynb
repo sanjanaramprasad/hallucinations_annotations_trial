import psycopg2
import pandas as pd


conn = psycopg2.connect(
   database="d65103c5a2kbgs", 
    user='u16ifm924gr2m8', 
    password='pe4029f0ba1fbaafd034f4dbf17f703bf9a5d6c8420f07719f5db4054c9d4da40', 
    host='c1gvrf2q90nbcq.cluster-czrs8kj4isg7.us-east-1.rds.amazonaws.com', 
    port = '5432'
    
)
cursor = conn.cursor()


sql = '''SELECT * from modified_label'''
data = pd.read_sql_query(sql, conn)


len(data)


data


data_genaudit = data[data['benchmark_dataset_name'] == 'genaudit']





data.to_csv('/Users/srampras/hallucinations_annotations_trial/annotated_data/final_ui_summaries_rachel_usher.csv') 


data



