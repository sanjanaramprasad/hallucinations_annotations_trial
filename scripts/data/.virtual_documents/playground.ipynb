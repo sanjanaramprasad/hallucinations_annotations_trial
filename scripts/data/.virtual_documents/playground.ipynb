import secrets
import json
password_length = 4
print(secrets.token_urlsafe(password_length))


current_count = 23
with open('/Users/srampras/hallucinations_annotations_trial/user_ids.json', 'r') as fp:
    user_ids = json.load(fp)

user_ids[f'{current_count}']


user_ids



