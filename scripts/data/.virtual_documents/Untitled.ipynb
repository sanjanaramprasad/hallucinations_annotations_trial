import pandas as pd
df_genaudit = pd.read_csv('/Users/srampras/hallucinations_annotations/scripts/data/genaudit_annotations.csv')
df_genaudit.head()[:2]


len(df_genaudit)
# shortlisted_ids = ['40110402', '39664212', 'REDDIT-9', 'REDDIT-80', 'ACIBENCH-D2N126', 'ACIBENCH-D2N124', 'ACIBENCH-D2N123', 'ACIBENCH-D2N094', 'ACIBENCH-D2N088', 'ACIBENCH-D2N090']
shortlisted_ids = ['D2N126', ]
df_genaudit_sample = []
for sid in shortlisted_ids:
    sids = [each for each in df_genaudit['id'] if sid in each]
    df_genaudit_sample += [df_genaudit[df_genaudit['id'].isin(sids)]]

df_genaudit_sample = pd.concat(df_genaudit_sample)
df_genaudit_sample



