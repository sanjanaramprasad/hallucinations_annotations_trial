{
 "cells": [
  {
   "cell_type": "code",
   "execution_count": 1,
   "id": "39e72cb3-f066-4bd7-bae7-e45a8090577e",
   "metadata": {},
   "outputs": [],
   "source": [
    "import psycopg2\n",
    "import pandas as pd"
   ]
  },
  {
   "cell_type": "code",
   "execution_count": 8,
   "id": "c33e1a66-74ce-4fc5-ba80-50e2f9869d82",
   "metadata": {},
   "outputs": [],
   "source": [
    "conn = psycopg2.connect(\n",
    "   database=\"d65103c5a2kbgs\", \n",
    "    user='u16ifm924gr2m8', \n",
    "    password='pe4029f0ba1fbaafd034f4dbf17f703bf9a5d6c8420f07719f5db4054c9d4da40', \n",
    "    host='c1gvrf2q90nbcq.cluster-czrs8kj4isg7.us-east-1.rds.amazonaws.com', \n",
    "    port = '5432'\n",
    "    \n",
    ")\n",
    "cursor = conn.cursor()"
   ]
  },
  {
   "cell_type": "code",
   "execution_count": 11,
   "id": "468c7fc4-b723-427b-b7b4-80da95f19f34",
   "metadata": {},
   "outputs": [
    {
     "name": "stderr",
     "output_type": "stream",
     "text": [
      "/var/folders/jk/_6z_xllx7hd7f8cjr7sxvnpm0000gn/T/ipykernel_91469/156875452.py:2: UserWarning: pandas only supports SQLAlchemy connectable (engine/connection) or database string URI or sqlite3 DBAPI2 connection. Other DBAPI2 objects are not tested. Please consider using SQLAlchemy.\n",
      "  data = pd.read_sql_query(sql, conn)\n"
     ]
    }
   ],
   "source": [
    "sql = '''SELECT * from label'''\n",
    "data = pd.read_sql_query(sql, conn)"
   ]
  },
  {
   "cell_type": "code",
   "execution_count": 12,
   "id": "93d01d34-379e-45c5-b4c0-39b1f29e5ac7",
   "metadata": {},
   "outputs": [
    {
     "data": {
      "text/html": [
       "<div>\n",
       "<style scoped>\n",
       "    .dataframe tbody tr th:only-of-type {\n",
       "        vertical-align: middle;\n",
       "    }\n",
       "\n",
       "    .dataframe tbody tr th {\n",
       "        vertical-align: top;\n",
       "    }\n",
       "\n",
       "    .dataframe thead th {\n",
       "        text-align: right;\n",
       "    }\n",
       "</style>\n",
       "<table border=\"1\" class=\"dataframe\">\n",
       "  <thead>\n",
       "    <tr style=\"text-align: right;\">\n",
       "      <th></th>\n",
       "      <th>uuid</th>\n",
       "      <th>user_id</th>\n",
       "      <th>docid</th>\n",
       "      <th>source</th>\n",
       "      <th>summary</th>\n",
       "      <th>model</th>\n",
       "      <th>benchmark_dataset_name</th>\n",
       "      <th>origin</th>\n",
       "      <th>nonfactual_span</th>\n",
       "      <th>error_type</th>\n",
       "      <th>start_position</th>\n",
       "      <th>end_position</th>\n",
       "      <th>mistake_severity</th>\n",
       "      <th>inference_likelihood</th>\n",
       "      <th>inference_knowledge</th>\n",
       "      <th>inference_severity</th>\n",
       "      <th>attempt_number</th>\n",
       "    </tr>\n",
       "  </thead>\n",
       "  <tbody>\n",
       "    <tr>\n",
       "      <th>0</th>\n",
       "      <td>fe46509f-d924-44f1-bab6-bbd9b97bca0d</td>\n",
       "      <td>sanjana</td>\n",
       "      <td>REDDIT-83:flanul2-ul2</td>\n",
       "      <td>Both me and my girlfriend participate in winte...</td>\n",
       "      <td>I waited outside the locker rooms for my girlf...</td>\n",
       "      <td>flanul2</td>\n",
       "      <td>genaudit</td>\n",
       "      <td>REDDIT</td>\n",
       "      <td>waited</td>\n",
       "      <td>highlight-mistake</td>\n",
       "      <td>NaN</td>\n",
       "      <td>NaN</td>\n",
       "      <td>None</td>\n",
       "      <td>obvious</td>\n",
       "      <td>common</td>\n",
       "      <td>high_consequence</td>\n",
       "      <td>1</td>\n",
       "    </tr>\n",
       "    <tr>\n",
       "      <th>1</th>\n",
       "      <td>99fd4d17-698b-4c71-b84b-a80518fc913d</td>\n",
       "      <td>sanjana</td>\n",
       "      <td>REDDIT-83:mistral7b-ul2</td>\n",
       "      <td>Both me and my girlfriend participate in winte...</td>\n",
       "      <td>The document describes the experience of a hig...</td>\n",
       "      <td>mistral7b</td>\n",
       "      <td>genaudit</td>\n",
       "      <td>REDDIT</td>\n",
       "      <td>document describes</td>\n",
       "      <td>highlight-mistake</td>\n",
       "      <td>4.0</td>\n",
       "      <td>22.0</td>\n",
       "      <td>None</td>\n",
       "      <td>not_likely</td>\n",
       "      <td>common</td>\n",
       "      <td>high_consequence</td>\n",
       "      <td>1</td>\n",
       "    </tr>\n",
       "    <tr>\n",
       "      <th>2</th>\n",
       "      <td>7c92517e-fc33-4338-a6c6-63c203e328b6</td>\n",
       "      <td>sanjana</td>\n",
       "      <td>ACIBENCH-D2N097:gpt4-ul2</td>\n",
       "      <td>[doctor] elizabeth , how are you ?\\n[patient] ...</td>\n",
       "      <td>The document outlines a conversation between a...</td>\n",
       "      <td>gpt4</td>\n",
       "      <td>genaudit</td>\n",
       "      <td>ACIBENCH</td>\n",
       "      <td>Elizabeth</td>\n",
       "      <td>highlight-mistake</td>\n",
       "      <td>423.0</td>\n",
       "      <td>432.0</td>\n",
       "      <td>None</td>\n",
       "      <td>not_likely</td>\n",
       "      <td>common</td>\n",
       "      <td>high_consequence</td>\n",
       "      <td>1</td>\n",
       "    </tr>\n",
       "    <tr>\n",
       "      <th>3</th>\n",
       "      <td>6d792c24-150c-43e7-b2ed-4917ffd6503c</td>\n",
       "      <td>sanjana</td>\n",
       "      <td>ACIBENCH-D2N097:gpt4-ul2</td>\n",
       "      <td>[doctor] elizabeth , how are you ?\\n[patient] ...</td>\n",
       "      <td>The document outlines a conversation between a...</td>\n",
       "      <td>gpt4</td>\n",
       "      <td>genaudit</td>\n",
       "      <td>ACIBENCH</td>\n",
       "      <td>Elizabeth</td>\n",
       "      <td>highlight-inference</td>\n",
       "      <td>74.0</td>\n",
       "      <td>83.0</td>\n",
       "      <td>None</td>\n",
       "      <td>not_likely</td>\n",
       "      <td>somewhat_common</td>\n",
       "      <td>high_consequence</td>\n",
       "      <td>1</td>\n",
       "    </tr>\n",
       "  </tbody>\n",
       "</table>\n",
       "</div>"
      ],
      "text/plain": [
       "                                   uuid  user_id                     docid  \\\n",
       "0  fe46509f-d924-44f1-bab6-bbd9b97bca0d  sanjana     REDDIT-83:flanul2-ul2   \n",
       "1  99fd4d17-698b-4c71-b84b-a80518fc913d  sanjana   REDDIT-83:mistral7b-ul2   \n",
       "2  7c92517e-fc33-4338-a6c6-63c203e328b6  sanjana  ACIBENCH-D2N097:gpt4-ul2   \n",
       "3  6d792c24-150c-43e7-b2ed-4917ffd6503c  sanjana  ACIBENCH-D2N097:gpt4-ul2   \n",
       "\n",
       "                                              source  \\\n",
       "0  Both me and my girlfriend participate in winte...   \n",
       "1  Both me and my girlfriend participate in winte...   \n",
       "2  [doctor] elizabeth , how are you ?\\n[patient] ...   \n",
       "3  [doctor] elizabeth , how are you ?\\n[patient] ...   \n",
       "\n",
       "                                             summary      model  \\\n",
       "0  I waited outside the locker rooms for my girlf...    flanul2   \n",
       "1  The document describes the experience of a hig...  mistral7b   \n",
       "2  The document outlines a conversation between a...       gpt4   \n",
       "3  The document outlines a conversation between a...       gpt4   \n",
       "\n",
       "  benchmark_dataset_name    origin     nonfactual_span           error_type  \\\n",
       "0               genaudit    REDDIT              waited    highlight-mistake   \n",
       "1               genaudit    REDDIT  document describes    highlight-mistake   \n",
       "2               genaudit  ACIBENCH           Elizabeth    highlight-mistake   \n",
       "3               genaudit  ACIBENCH           Elizabeth  highlight-inference   \n",
       "\n",
       "   start_position  end_position mistake_severity inference_likelihood  \\\n",
       "0             NaN           NaN             None              obvious   \n",
       "1             4.0          22.0             None           not_likely   \n",
       "2           423.0         432.0             None           not_likely   \n",
       "3            74.0          83.0             None           not_likely   \n",
       "\n",
       "  inference_knowledge inference_severity  attempt_number  \n",
       "0              common   high_consequence               1  \n",
       "1              common   high_consequence               1  \n",
       "2              common   high_consequence               1  \n",
       "3     somewhat_common   high_consequence               1  "
      ]
     },
     "execution_count": 12,
     "metadata": {},
     "output_type": "execute_result"
    }
   ],
   "source": [
    "data"
   ]
  },
  {
   "cell_type": "code",
   "execution_count": 17,
   "id": "526b0126-1435-4f44-b72c-167bf99663e7",
   "metadata": {},
   "outputs": [
    {
     "data": {
      "text/plain": [
       "'Elizabeth'"
      ]
     },
     "execution_count": 17,
     "metadata": {},
     "output_type": "execute_result"
    }
   ],
   "source": [
    "row = data[data['docid'] == 'ACIBENCH-D2N097:gpt4-ul2']\n",
    "row['summary'].values[0][74:83]"
   ]
  },
  {
   "cell_type": "code",
   "execution_count": 32,
   "id": "cf0a7b74-da19-4aa5-96cb-606d55e27c7f",
   "metadata": {},
   "outputs": [],
   "source": [
    "doc = row['summary'].values[0]\n"
   ]
  },
  {
   "cell_type": "code",
   "execution_count": 33,
   "id": "54a278e2-91e3-46f2-8b5b-154d4d4aad99",
   "metadata": {},
   "outputs": [
    {
     "data": {
      "text/plain": [
       "'author mistakenly'"
      ]
     },
     "execution_count": 33,
     "metadata": {},
     "output_type": "execute_result"
    }
   ],
   "source": [
    "doc[4:21]"
   ]
  },
  {
   "cell_type": "code",
   "execution_count": null,
   "id": "e4555fcd-f0eb-469c-8362-767f2e652b3c",
   "metadata": {},
   "outputs": [],
   "source": []
  }
 ],
 "metadata": {
  "kernelspec": {
   "display_name": "Python 3 (ipykernel)",
   "language": "python",
   "name": "python3"
  },
  "language_info": {
   "codemirror_mode": {
    "name": "ipython",
    "version": 3
   },
   "file_extension": ".py",
   "mimetype": "text/x-python",
   "name": "python",
   "nbconvert_exporter": "python",
   "pygments_lexer": "ipython3",
   "version": "3.12.4"
  }
 },
 "nbformat": 4,
 "nbformat_minor": 5
}
