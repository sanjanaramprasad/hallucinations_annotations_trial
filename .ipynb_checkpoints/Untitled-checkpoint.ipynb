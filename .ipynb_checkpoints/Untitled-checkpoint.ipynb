{
 "cells": [
  {
   "cell_type": "code",
   "execution_count": null,
   "id": "81652207-d50b-4fc1-a984-2478faadb49b",
   "metadata": {},
   "outputs": [],
   "source": [
    "\n"
   ]
  },
  {
   "cell_type": "code",
   "execution_count": 1,
   "id": "7b65d632-4f0d-4a66-b210-b9f5c451e450",
   "metadata": {},
   "outputs": [
    {
     "data": {
      "text/plain": [
       "'The author mistakenly believed their ACT test was on a certain day and ended up wandering around an empty high school for about half an hour, trying to gain access. They eventually checked their test ticket, realizing the ACT was scheduled for the previous day, which explained the empty parking lot and locked school.'"
      ]
     },
     "execution_count": 1,
     "metadata": {},
     "output_type": "execute_result"
    }
   ],
   "source": [
    "annot = '''The author mistakenly believed their ACT test was on a certain day and ended up wandering around an empty high school for about half an hour, trying to gain access. They eventually checked their test ticket, realizing the ACT was scheduled for the previous day, which explained the empty parking lot and locked school.'''\n",
    "\n",
    "annot\n"
   ]
  },
  {
   "cell_type": "code",
   "execution_count": null,
   "id": "09b9b904-a55c-4ca3-8c31-490809834b3f",
   "metadata": {},
   "outputs": [],
   "source": [
    "'''The <span class=\"highlight-mistake\" data-additional-rating1=\"not_likely\" data-additional-rating2=\"somewhat_common\" data-additional-rating3=\"high_consequence\"> author mistakenly </span> believed their ACT test was on a certain day and ended up wandering around an empty high school for about half an hour, trying to gain acc<span class=\"highlight-somewhat_mistake\" data-additional-rating1=\"not_likely\" data-additional-rating2=\"somewhat_common\" data-additional-rating3=\"high_consequence\"> checked their test ticket </span>ked their test ticket, realizing the ACT was scheduled for the previous day, which explained the empty parking lot and locked school.'''"
   ]
  }
 ],
 "metadata": {
  "kernelspec": {
   "display_name": "Python 3 (ipykernel)",
   "language": "python",
   "name": "python3"
  },
  "language_info": {
   "codemirror_mode": {
    "name": "ipython",
    "version": 3
   },
   "file_extension": ".py",
   "mimetype": "text/x-python",
   "name": "python",
   "nbconvert_exporter": "python",
   "pygments_lexer": "ipython3",
   "version": "3.12.4"
  }
 },
 "nbformat": 4,
 "nbformat_minor": 5
}
